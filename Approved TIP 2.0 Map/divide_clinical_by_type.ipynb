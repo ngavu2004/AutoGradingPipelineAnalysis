{
 "cells": [
  {
   "cell_type": "markdown",
   "metadata": {},
   "source": [
    "# Import Required Libraries\n",
    "Import the necessary libraries, including pandas."
   ]
  },
  {
   "cell_type": "code",
   "execution_count": 1,
   "metadata": {},
   "outputs": [],
   "source": [
    "# Import Required Libraries\n",
    "import pandas as pd"
   ]
  },
  {
   "cell_type": "markdown",
   "metadata": {},
   "source": [
    "# Load the Excel File\n",
    "Use pandas to load the Excel file into a DataFrame."
   ]
  },
  {
   "cell_type": "code",
   "execution_count": 3,
   "metadata": {},
   "outputs": [
    {
     "data": {
      "text/html": [
       "<div>\n",
       "<style scoped>\n",
       "    .dataframe tbody tr th:only-of-type {\n",
       "        vertical-align: middle;\n",
       "    }\n",
       "\n",
       "    .dataframe tbody tr th {\n",
       "        vertical-align: top;\n",
       "    }\n",
       "\n",
       "    .dataframe thead th {\n",
       "        text-align: right;\n",
       "    }\n",
       "</style>\n",
       "<table border=\"1\" class=\"dataframe\">\n",
       "  <thead>\n",
       "    <tr style=\"text-align: right;\">\n",
       "      <th></th>\n",
       "      <th>ProviderName</th>\n",
       "      <th>TIN</th>\n",
       "      <th>AOC</th>\n",
       "      <th>Clinic_Name</th>\n",
       "      <th>Clinic_Address</th>\n",
       "      <th>Clinic_Type</th>\n",
       "      <th>Notes</th>\n",
       "    </tr>\n",
       "  </thead>\n",
       "  <tbody>\n",
       "    <tr>\n",
       "      <th>0</th>\n",
       "      <td>1ST CARE MEDICAL CLINIC</td>\n",
       "      <td>203928729</td>\n",
       "      <td>ADULT PCP</td>\n",
       "      <td>1ST CARE MEDICAL CLINIC</td>\n",
       "      <td>1635 W GLENDALE AVE PHOENIX AZ 85021</td>\n",
       "      <td>Other</td>\n",
       "      <td>NaN</td>\n",
       "    </tr>\n",
       "    <tr>\n",
       "      <th>1</th>\n",
       "      <td>1ST CARE MEDICAL CLINIC</td>\n",
       "      <td>203928729</td>\n",
       "      <td>ADULT PCP</td>\n",
       "      <td>1ST CARE MEDICAL CLINIC</td>\n",
       "      <td>1ST CARE MED CLINIC 1635 W GLENDALE AVE PHOENI...</td>\n",
       "      <td>Other</td>\n",
       "      <td>NaN</td>\n",
       "    </tr>\n",
       "    <tr>\n",
       "      <th>2</th>\n",
       "      <td>ACCU CARE URGENT CARE LLC</td>\n",
       "      <td>900187476</td>\n",
       "      <td>ADULT PCP</td>\n",
       "      <td>ACCU CARE URGENT CARE,LLC</td>\n",
       "      <td>7041 N 35TH AVE PHOENIX AZ 85051</td>\n",
       "      <td>Other</td>\n",
       "      <td>NaN</td>\n",
       "    </tr>\n",
       "    <tr>\n",
       "      <th>3</th>\n",
       "      <td>ALIA FAMILY PRACTICE INC</td>\n",
       "      <td>203534882</td>\n",
       "      <td>ADULT PCP</td>\n",
       "      <td>TEMPE FAMILY PRACTICE</td>\n",
       "      <td>6655 S RURAL RD STE 3 TEMPE AZ 85283</td>\n",
       "      <td>Other</td>\n",
       "      <td>NaN</td>\n",
       "    </tr>\n",
       "    <tr>\n",
       "      <th>4</th>\n",
       "      <td>ALIUM HEALTH LLC</td>\n",
       "      <td>823913679</td>\n",
       "      <td>ADULT PCP</td>\n",
       "      <td>ALIUM HEALTH LLC</td>\n",
       "      <td>7425 E SHEA BLVD STE 107 SCOTTSDALE AZ 85260</td>\n",
       "      <td>Other</td>\n",
       "      <td>NaN</td>\n",
       "    </tr>\n",
       "  </tbody>\n",
       "</table>\n",
       "</div>"
      ],
      "text/plain": [
       "                ProviderName        TIN        AOC                Clinic_Name  \\\n",
       "0    1ST CARE MEDICAL CLINIC  203928729  ADULT PCP    1ST CARE MEDICAL CLINIC   \n",
       "1    1ST CARE MEDICAL CLINIC  203928729  ADULT PCP    1ST CARE MEDICAL CLINIC   \n",
       "2  ACCU CARE URGENT CARE LLC  900187476  ADULT PCP  ACCU CARE URGENT CARE,LLC   \n",
       "3   ALIA FAMILY PRACTICE INC  203534882  ADULT PCP      TEMPE FAMILY PRACTICE   \n",
       "4           ALIUM HEALTH LLC  823913679  ADULT PCP           ALIUM HEALTH LLC   \n",
       "\n",
       "                                      Clinic_Address Clinic_Type Notes  \n",
       "0               1635 W GLENDALE AVE PHOENIX AZ 85021       Other   NaN  \n",
       "1  1ST CARE MED CLINIC 1635 W GLENDALE AVE PHOENI...       Other   NaN  \n",
       "2                   7041 N 35TH AVE PHOENIX AZ 85051       Other   NaN  \n",
       "3               6655 S RURAL RD STE 3 TEMPE AZ 85283       Other   NaN  \n",
       "4       7425 E SHEA BLVD STE 107 SCOTTSDALE AZ 85260       Other   NaN  "
      ]
     },
     "execution_count": 3,
     "metadata": {},
     "output_type": "execute_result"
    }
   ],
   "source": [
    "# Load the Excel File\n",
    "file_path = '20250313 Adult PCP Addresses.xlsx'  # Replace with your actual file path\n",
    "df = pd.read_excel(file_path)\n",
    "df['Clinic_Type'] = df['Clinic_Type'].fillna('Other')\n",
    "# Display the first few rows of the DataFrame\n",
    "df.head()"
   ]
  },
  {
   "cell_type": "code",
   "execution_count": 6,
   "metadata": {},
   "outputs": [
    {
     "data": {
      "text/plain": [
       "array(['Other', 'Integrated Clinic', 'Outpatient Clinic',\n",
       "       'Federally Qualified Health Center'], dtype=object)"
      ]
     },
     "execution_count": 6,
     "metadata": {},
     "output_type": "execute_result"
    }
   ],
   "source": [
    "# Get unique clinic types\n",
    "clinic_types = df['Clinic_Type'].unique()\n",
    "\n",
    "# Iterate over each clinic type and export to separate CSV\n",
    "for clinic_type in clinic_types:\n",
    "    # Filter rows for the current clinic type\n",
    "    clinic_df = df[df['Clinic_Type'] == clinic_type]\n",
    "    \n",
    "    # Define the filename\n",
    "    filename = f\"{clinic_type}.csv\"\n",
    "    \n",
    "    # Export to CSV\n",
    "    clinic_df.to_csv(filename, index=False)\n",
    "\n",
    "# Display unique clinic types\n",
    "clinic_types"
   ]
  }
 ],
 "metadata": {
  "kernelspec": {
   "display_name": "Python 3",
   "language": "python",
   "name": "python3"
  },
  "language_info": {
   "codemirror_mode": {
    "name": "ipython",
    "version": 3
   },
   "file_extension": ".py",
   "mimetype": "text/x-python",
   "name": "python",
   "nbconvert_exporter": "python",
   "pygments_lexer": "ipython3",
   "version": "3.12.9"
  }
 },
 "nbformat": 4,
 "nbformat_minor": 2
}
